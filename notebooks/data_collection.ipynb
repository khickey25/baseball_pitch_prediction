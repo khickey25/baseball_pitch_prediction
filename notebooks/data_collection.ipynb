{
 "nbformat": 4,
 "nbformat_minor": 2,
 "metadata": {
  "language_info": {
   "name": "python",
   "codemirror_mode": {
    "name": "ipython",
    "version": 3
   },
   "version": "3.8.1-final"
  },
  "orig_nbformat": 2,
  "file_extension": ".py",
  "mimetype": "text/x-python",
  "name": "python",
  "npconvert_exporter": "python",
  "pygments_lexer": "ipython3",
  "version": 3,
  "kernelspec": {
   "name": "python38164bitbaseballstrikepredictionenvvenvbcccc931e5e642c4ba1add464970cfc4",
   "display_name": "Python 3.8.1 64-bit ('baseball_strike_prediction_env': venv)"
  }
 },
 "cells": [
  {
   "cell_type": "markdown",
   "execution_count": 1,
   "metadata": {},
   "outputs": [],
   "source": [
    "\n",
    "# Data Collection\n",
    "This notebook illustrates the collection of 'Statcast_data.csv' data file. It will detail the code with the pybaseball library in addition to metadata about the data itself.\n",
    "\n",
    "The statcast data is collected thanks in part to James LeDoux and company python library pybaseball. The link to the official github page is here: https://github.com/jldbc/pybaseball.\n",
    "\n",
    "This package scrapes Baseball Reference, Baseball Savant, and FanGraphs, all websites that house statistical and baseball related information. Specifically for this notebook, the package retrieves statcast data (detailed in the Proposal document) on the individual pitch level. The data will be collected on the following terms:\n",
    "\n",
    "Identify the classes in our target suitable for overall analysis. In statcast terms, the classes will be \"called_strike\", \"ball\", and \"blocked_ball\".\n",
    "Order pitchers who threw the most pitches in the 2018 regular season. That is done below in the pitchers list object.\n",
    "To get an even sample of pitches from each pitcher and a variety of pitchers, select the top 400 pitchers in our ordering and collect 350 pitches each. This is chosen because our 400th rank pitcher, Gen Giles, threw 351 pitches last year. Thus, to ensure an even amount between all pitchers, each pitcher will have 350 pitches in the final dataset. The data will be collected from the entire 2018 regular season, which started on March 29 and ended on September 30.\n",
    "Select appropriate features that can only be measured during the duration of a pitch. The duration, or timeline of a pitch, is defined as the moment when the pitcher releases the baseball out of his hand to the moment the catcher receives the ball. Thus, features about hitting the ball, or any information after a pitch has been thrown is excluded. The only feature considered will be the target, which is the result of the pitch.\n",
    "Logical execution\n",
    "The logic of the data collection is based on the pybaseball functionality:\n",
    "\n",
    "Grab a unique identification label for each pitcher to be used in collected his respective data\n",
    "Pull the data from Statcast through pybaseball, resulting in a pandas dataframe, based on the unique identification. This dataframe will be a random sample of 350 pitches thrown in the 2018 regular season by the particular pitcher.\n",
    "Instatiate a dataframe by performing step 2 above. Then, loop through all of the pitchers and append their respective data to the instatiated dataframe. This will result in our final dataframe. For reference, the last pitcher will be Ken Giles.\n",
    "Save that dataframe as a csv file for future use.\n",
    "(Note from the author: The logic is not necessarily elegant, but it get's the job done. However, there are some hiccups. Due to random minor bugs and errors that crept up during execution of the looping through pitcher names, not all 400 pitchers ended in the dataframe. If there was a possible disruption of the loop with a particular pitcher, the pitcher was simply bypassed. This execution resulting in 368 pitchers resulting in the dataframe. Still an ample amount.)\n",
    "\n",
    "Let's begin the process now."
   ]
  },
  {
   "cell_type": "code",
   "execution_count": 3,
   "metadata": {},
   "outputs": [],
   "source": [
    "#import dependencies\n",
    "import pybaseball\n",
    "import pandas as pd\n",
    "import numpy as np\n",
    "from pybaseball import statcast_pitcher\n",
    "from pybaseball import playerid_lookup\n",
    "import pathlib"
   ]
  },
  {
   "cell_type": "code",
   "execution_count": 130,
   "metadata": {},
   "outputs": [
    {
     "name": "stdout",
     "output_type": "stream",
     "text": "Number of Pitchers: 400\n"
    }
   ],
   "source": [
    "PITCHER_NAMES = pathlib.Path('../references/pitcher_names.txt')\n",
    "\n",
    "\n",
    "with open(PITCHER_NAMES) as f:\n",
    "    names = f.read().split(',')\n",
    "    for name in names:\n",
    "        if '\\n' in name:\n",
    "            names = [name.replace('\\n', '') for name in names]\n",
    "print(f' Number of Pitchers: {len(names)}')\n",
    "    \n",
    "#test if '\\n' is really out"
   ]
  },
  {
   "cell_type": "code",
   "execution_count": 127,
   "metadata": {},
   "outputs": [
    {
     "data": {
      "text/plain": "['Dallas Keuchel',\n 'Kyle Gibson',\n 'Kyle Freeland',\n 'Mike Clevinger',\n 'Jon Lester',\n '\\nZack Greinke',\n 'Gio Gonzalez',\n 'Mike Foltynewicz',\n 'Jhoulys Chacin',\n 'Lucas Giolito',\n '\\nKyle Hendricks',\n 'Justin Verlander',\n 'Max Scherzer',\n 'Jose Quintana',\n 'Patrick Corbin',\n '\\nRick Porcello',\n 'Sean Newcomb',\n 'Reynaldo Lopez',\n 'Blake Snell',\n 'Tanner Roark',\n '\\nCorey Kluber',\n 'JA Happ',\n 'Julio Teheran',\n 'Luis Severino',\n 'Cole Hamels',\n 'Lance Lynn',\n 'Jake Odorizzi',\n '\\nJose Berrios',\n 'Jacob deGrom',\n 'Matthew Boyd',\n 'Kevin Gausman',\n 'Steven Matz',\n 'Jon Gray',\n '\\nJameson Taillon',\n 'Jakob Junis',\n 'Andrew Cashner',\n 'Danny Duffy',\n 'Jake Arrieta',\n 'Charlie Morton',\n '\\nZack Wheeler',\n 'James Shields',\n 'Tyler Anderson',\n 'Jose Urena',\n 'Carlos Carrasco',\n 'Trevor Williams',\n '\\nTyson Ross',\n 'Miles Mikolas',\n 'Mike Fiers',\n 'Andrew Heaney',\n 'Dylan Bundy',\n 'Felix Hernandez',\n '\\nLuis Castillo',\n 'Chase Anderson',\n 'David Price',\n 'Derek Holland',\n 'Andrew Suarez',\n 'Chris Stratton',\n '\\nMarco Gonzales',\n 'Wade LeBlanc',\n 'Francisco Liriano',\n 'CC Sabathia',\n 'Ivan Nova',\n 'Matt Harvey',\n '\\nChris Archer',\n 'Marco Estrada',\n 'Sonny Gray',\n 'Luke Weaver',\n 'Clayton Richard',\n 'Sal Romano',\n 'German Marquez',\n '\\nGerrit Cole',\n 'Ryan Yarbrough',\n 'Mike Leake',\n 'Eduardo Rodriguez',\n 'Trevor Richards',\n 'Junior Guerra',\n 'Brad Keller',\n '\\nWei-Yin Chen',\n 'Bartolo Colon',\n 'Masahiro Tanaka',\n 'Jack Flaherty',\n 'Noah Syndergaard',\n 'Tyler Chatwood',\n 'Jaime Barria',\n '\\nAaron Nola',\n 'Sam Gaviglio',\n 'Clayton Kershaw',\n 'Sean Manaea',\n 'Joey Lucchesi',\n 'Stephen Strasburg',\n 'Anibal Sanchez',\n 'Dylan Covey',\n '\\nTyler Skaggs',\n 'Dan Straily',\n 'Nick Pivetta',\n 'Mike Minor',\n 'Rich Hill',\n 'Trevor Bauer',\n 'Madison Bumgarner',\n '\\nTyler Mahle',\n 'Chad Bettis',\n 'Vince Velasquez',\n 'Jordan Zimmermann',\n 'Michael Fulmer',\n 'Hector Santiago',\n 'Carlos Rodon',\n '\\nTy Blach',\n 'Jason Hammel',\n 'Zach Eflin',\n 'Mike Montgomery',\n 'Zack Godley',\n 'Tyler Glasnow',\n 'Carlos Martinez',\n 'Aaron Sanchez',\n '\\nEric Lauer',\n 'Robbie Ray',\n 'Dereck Rodriguez',\n 'John Gant',\n 'Alex Cobb',\n 'Yovani Gallardo',\n 'Kenta Maeda',\n 'Brian Johnson',\n '\\nMarcus Stroman',\n 'Alex Wood',\n 'Daniel Mengden',\n 'James Paxton',\n 'David Hess',\n 'Anthony DeSclafani',\n 'Steven Brault',\n '\\nIan Kennedy',\n 'Walker Buehler',\n 'Antonio Senzatela',\n 'Seth Lugo',\n 'Ryan Borucki',\n 'Brent Suter',\n 'Mike Wright',\n 'Trevor Cahill',\n '\\nNathan Eovaldi',\n 'Miguel Castro',\n 'Shane Bieber',\n 'Robbie Erlin',\n 'Edwin Jackson',\n 'Homer Bailey',\n 'Jaime Garcia',\n 'Burch Smith',\n '\\nFelix Pena',\n 'Adam Ottavino',\n 'Domingo German',\n 'Michael Wacha',\n 'Noe Ramirez',\n 'Martin Perez',\n 'Ross Stripling',\n 'Freddy Peralta',\n '\\nJesse Chavez',\n 'Joe Musgrove',\n 'Garrett Richards',\n 'Blaine Hardy',\n 'Matt Moore',\n 'Jordan Lyles',\n 'Jordan Hicks',\n 'Heath Fillmyer',\n '\\nClay Buchholz',\n 'Caleb Smith',\n 'Wade Miley',\n 'Jason Vargas',\n 'Hector Velazquez',\n 'Michael Lorenzen',\n 'Buck Farmer',\n 'Nick Kingham',\n '\\nMatt Koch',\n 'Brad Hand',\n 'Chad Kuhl',\n 'Brian Flynn',\n 'Steve Cishek',\n 'Hyun-Jin Ryu',\n 'Fernando Rodney',\n 'Bryan Mitchell',\n 'Nick Tropeano',\n '\\nYefry Ramirez',\n 'Robert Gsellman',\n 'Collin McHugh',\n 'Yusmeiro Petit',\n 'Lance McCullers Jr',\n 'Matt Andriese',\n 'Joe Biagini',\n 'Doug Fister',\n '\\nMatt Barnes',\n 'Yonny Chirinos',\n 'Justin Anderson',\n 'Reyes Moronta',\n 'Josh Hader',\n 'Zach Davies',\n 'Brandon McCarthy',\n 'Elieser Hernandez',\n '\\nJake Faria',\n 'Cam Bedrosian',\n 'Adam Plutko',\n 'Mychal Givens',\n 'Sergio Romo',\n 'Blake Parker',\n 'Jeurys Familia',\n 'Brad Peacock',\n '\\nBrad Brach',\n 'Kyle Barraclough',\n 'Chad Green',\n 'Tayron Guerrero',\n 'TJ McFarland',\n 'Drew Steckenrider',\n 'Joe Jimenez',\n 'Jose Alvarado',\n '\\nDan Jennings',\n 'Raisel Iglesias',\n 'Brett Anderson',\n 'Shane Greene',\n 'Jake Diekman',\n 'Josh Tomlin',\n 'Trevor Hildenberger',\n 'Yoshihisa Hirano',\n '\\nTyler Clippard',\n 'Felipe Vazquez',\n 'Eric Skoglund',\n 'Jarlin Garcia',\n 'Seunghwan Oh',\n 'Richard Rodriguez',\n 'Jim Johnson',\n 'Brad Boxberger',\n '\\nHeath Hembree',\n 'Edwin Diaz',\n 'Jesse Biddle',\n 'Kyle Crick',\n 'Jared Hughes',\n 'Adam Warren',\n 'Erick Fedde',\n 'Lou Trivino',\n 'Paul Sewald',\n '\\nKenley Jansen',\n 'Ryan Pressly',\n 'Ryne Stanek',\n 'Matt Magill',\n 'Brad Ziegler',\n 'Jeremy Hellickson',\n 'Blake Treinen',\n 'Amir Garrett',\n '\\nBryan Shaw',\n 'Chasen Shreve',\n 'Jonathan Holder',\n 'Alex Colome',\n 'Ryan Tepera',\n 'Alex Claudio',\n 'Brandon Kintzler',\n 'John Axford',\n '\\nCory Gearrin',\n 'Scott Alexander',\n 'Corey Oswalt',\n 'Hansel Robles',\n 'Dan Winkler',\n 'AJ Minter',\n 'Jose Alvarez',\n 'Taylor Rogers',\n '\\nDylan Floro',\n 'Hector Rondon',\n 'Matt Strahm',\n 'Justin Wilson',\n 'Michael Feliz',\n 'Frankie Montas',\n 'Taylor Williams',\n 'Carl Edwards Jr',\n '\\nAustin Gomber',\n 'Jefry Rodriguez',\n 'Joakim Soria',\n 'Sam Dyson',\n 'Aroldis Chapman',\n 'Jorge De La Rosa',\n 'Kevin McCarthy',\n 'Joe Kelly',\n '\\nAlex Wilson',\n 'Jose Leclerc',\n 'Austin Pruitt',\n 'Drew VerHagen',\n 'Jace Fry',\n 'Diego Castillo',\n 'Emilio Pagan',\n 'Seranthony Dominguez',\n '\\nZach Duke',\n 'Archie Bradley',\n 'Fernando Romero',\n 'Sam Freeman',\n 'Craig Stammen',\n 'Bud Norris',\n 'Drew Pomeranz',\n 'Wade Davis',\n '\\nWill Harris',\n 'Mike Mayers',\n 'Juan Minaya',\n 'Pablo Lopez',\n 'David Hernandez',\n 'Luis Perdomo',\n 'Keone Kela',\n 'David Robertson',\n '\\nAJ Cole',\n 'Andrew Chafin',\n 'Shohei Ohtani',\n 'Edgar Santana',\n 'Ariel Jurado',\n 'Jerry Blevins',\n 'Chris Volstad',\n 'Shane Carle',\n '\\nTanner Scott',\n 'Kirby Yates',\n 'Adam Morgan',\n 'Wandy Peralta',\n 'Tony Watson',\n 'Louis Coleman',\n 'Luis Avilan',\n 'Jalen Beeks',\n '\\nPedro Baez',\n 'Chris Rusin',\n 'John Brebbia',\n 'Victor Arano',\n 'Greg Holland',\n 'Chris Bassitt',\n 'Dan Otero',\n 'Addison Reed',\n '\\nTommy Hunter',\n 'Pierce Johnson',\n 'Phil Maton',\n 'Matt Grace',\n 'Wilmer Font',\n 'Roenis Elias',\n 'Jacob Barnes',\n 'Jake McGee',\n '\\nDanny Barnes',\n 'Pedro Strop',\n 'Daniel Norris',\n 'Jeremy Jeffress',\n 'Caleb Ferguson',\n 'Eddie Butler',\n 'Chaz Roe',\n 'Adam Cimber',\n '\\nJohnny Cueto',\n 'Adam Wainwright',\n 'Scott Oberg',\n 'Drew Hutchison',\n 'Hunter Strickland',\n 'Andrew Triggs',\n 'Jake Petricka',\n '\\nJustin Miller',\n 'Oliver Drake',\n 'Odrisamer Despaigne',\n 'Will Smith',\n 'Yu Darvish',\n 'Edubray Ramos',\n 'Luis Garcia',\n '\\nBrandon Woodruff',\n 'Hector Neris',\n 'Deck McGuire',\n 'Chris Devenski',\n 'Austin Bibens-Dirkx',\n 'Chasen Bradford',\n 'Ryan Madson',\n '\\nWander Suero',\n 'Brian Duensing',\n 'Tim Hill',\n 'Carson Fulmer',\n 'Harrison Musgrave',\n 'Cody Reed',\n 'Randy Rosario',\n 'Brandon Maurer',\n '\\nZack Britton',\n 'Nick Vincent',\n 'Framber Valdez',\n 'Thomas Pannone',\n 'Erasmo Ramirez',\n 'Aaron Loup',\n 'Chris Hatcher',\n 'Adam Conley',\n '\\nDellin Betances',\n 'Zach McAllister',\n 'Jeff Samardzija',\n 'Jimmy Yacabonis',\n 'Luke Jackson',\n 'Daniel Stumpf',\n 'James Pazos',\n 'Luis Cessa',\n '\\nKendall Graveman',\n 'Shawn Kelley',\n 'Juan Nicasio',\n 'Hunter Wood',\n 'Kohl Stewart',\n 'Jacob Nix',\n 'Paul Fry',\n 'Craig Kimbrel',\n '\\nDaniel Hudson',\n 'Ryan Buchter',\n 'Cody Allen',\n 'Neil Ramirez',\n 'Jorge Lopez',\n 'Chris Martin',\n 'Sean Reid-Foley',\n 'Ken Giles']"
     },
     "execution_count": 127,
     "metadata": {},
     "output_type": "execute_result"
    }
   ],
   "source": [
    "PITCHER_NAMES = pathlib.Path('../references/pitcher_names.txt')\n",
    "\n",
    "with open(PITCHER_NAMES) as f:\n",
    "    names = f.read().split(',') \n",
    "\n",
    "names"
   ]
  },
  {
   "cell_type": "code",
   "execution_count": null,
   "metadata": {},
   "outputs": [],
   "source": []
  }
 ]
}