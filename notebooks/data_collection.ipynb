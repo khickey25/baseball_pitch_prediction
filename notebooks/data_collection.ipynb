{
 "nbformat": 4,
 "nbformat_minor": 2,
 "metadata": {
  "language_info": {
   "name": "python",
   "codemirror_mode": {
    "name": "ipython",
    "version": 3
   },
   "version": "3.8.1-final"
  },
  "orig_nbformat": 2,
  "file_extension": ".py",
  "mimetype": "text/x-python",
  "name": "python",
  "npconvert_exporter": "python",
  "pygments_lexer": "ipython3",
  "version": 3,
  "kernelspec": {
   "name": "python38164bitbaseballstrikepredictionenvvenvbcccc931e5e642c4ba1add464970cfc4",
   "display_name": "Python 3.8.1 64-bit ('baseball_strike_prediction_env': venv)"
  }
 },
 "cells": [
  {
   "cell_type": "markdown",
   "execution_count": 1,
   "metadata": {},
   "outputs": [],
   "source": [
    "\n",
    "# Data Collection\n",
    "This notebook illustrates the collection of 'Statcast_data.csv' data file. It will detail the code with the pybaseball library in addition to metadata about the data itself.\n",
    "\n",
    "The statcast data is collected thanks in part to James LeDoux and company python library pybaseball. The link to the official github page is here: https://github.com/jldbc/pybaseball.\n",
    "\n",
    "This package scrapes Baseball Reference, Baseball Savant, and FanGraphs, all websites that house statistical and baseball related information. Specifically for this notebook, the package retrieves statcast data (detailed in the Proposal document) on the individual pitch level. The data will be collected on the following terms:\n",
    "\n",
    "Identify the classes in our target suitable for overall analysis. In statcast terms, the classes will be \"called_strike\", \"ball\", and \"blocked_ball\".\n",
    "Order pitchers who threw the most pitches in the 2018 regular season. That is done below in the pitchers list object.\n",
    "To get an even sample of pitches from each pitcher and a variety of pitchers, select the top 400 pitchers in our ordering and collect 350 pitches each. This is chosen because our 400th rank pitcher, Gen Giles, threw 351 pitches last year. Thus, to ensure an even amount between all pitchers, each pitcher will have 350 pitches in the final dataset. The data will be collected from the entire 2018 regular season, which started on March 29 and ended on September 30.\n",
    "Select appropriate features that can only be measured during the duration of a pitch. The duration, or timeline of a pitch, is defined as the moment when the pitcher releases the baseball out of his hand to the moment the catcher receives the ball. Thus, features about hitting the ball, or any information after a pitch has been thrown is excluded. The only feature considered will be the target, which is the result of the pitch.\n",
    "Logical execution\n",
    "The logic of the data collection is based on the pybaseball functionality:\n",
    "\n",
    "Grab a unique identification label for each pitcher to be used in collected his respective data\n",
    "Pull the data from Statcast through pybaseball, resulting in a pandas dataframe, based on the unique identification. This dataframe will be a random sample of 350 pitches thrown in the 2018 regular season by the particular pitcher.\n",
    "Instatiate a dataframe by performing step 2 above. Then, loop through all of the pitchers and append their respective data to the instatiated dataframe. This will result in our final dataframe. For reference, the last pitcher will be Ken Giles.\n",
    "Save that dataframe as a csv file for future use.\n",
    "(Note from the author: The logic is not necessarily elegant, but it get's the job done. However, there are some hiccups. Due to random minor bugs and errors that crept up during execution of the looping through pitcher names, not all 400 pitchers ended in the dataframe. If there was a possible disruption of the loop with a particular pitcher, the pitcher was simply bypassed. This execution resulting in 368 pitchers resulting in the dataframe. Still an ample amount.)\n",
    "\n",
    "Let's begin the process now."
   ]
  },
  {
   "cell_type": "code",
   "execution_count": 1,
   "metadata": {},
   "outputs": [],
   "source": [
    "#import dependencies\n",
    "import pybaseball\n",
    "import pandas as pd\n",
    "import numpy as np\n",
    "from pybaseball import statcast_pitcher\n",
    "from pybaseball import playerid_lookup\n",
    "import pathlib\n",
    "\n",
    "PITCHER_NAMES = pathlib.Path.cwd().parent / 'references' / 'pitcher_names.txt'\n",
    "DATA_FOLDER = pathlib.Path.cwd().parent / 'data'\n",
    "\n",
    "#set up a few constants\n",
    "#number of pitches\n",
    "SAMPLE_SIZE = 350\n",
    "\n",
    "#classes of the target variable\n",
    "TARGET_CLASSES = ['ball', 'called_strike', 'blocked_ball']\n",
    "\n",
    "#resulting features we want\n",
    "FEATURES_TO_KEEP = ['player_name', 'p_throws', 'pitch_name', 'release_speed','release_spin_rate',\n",
    "                    'release_pos_x', 'release_pos_y',\n",
    "                    'release_pos_z', 'pfx_x', 'pfx_z', 'vx0','vy0', 'vz0', \n",
    "                    'ax', 'ay', 'az', 'sz_top', 'sz_bot', \n",
    "                    'release_extension','description']"
   ]
  },
  {
   "cell_type": "code",
   "execution_count": 2,
   "metadata": {},
   "outputs": [],
   "source": [
    "def read_pitchers(file):\n",
    "    '''\n",
    "    # read in pitcher_names.txt file, \n",
    "    # split the file into list of list, \n",
    "    # where each individual list has two elements, the first and last names, respectively\n",
    "\n",
    "    '''\n",
    "    with open(file) as f:\n",
    "        names = f.read().split(',')\n",
    "        for name in names:\n",
    "            if '\\n' in name:\n",
    "                names = [name.replace('\\n', '') for name in names]\n",
    "            split_names = [name.split(' ') for name in names]\n",
    "        \n",
    "        print(f' Number of Pitchers: {len(names)}')\n",
    "        return split_names\n"
   ]
  },
  {
   "cell_type": "markdown",
   "execution_count": null,
   "metadata": {},
   "outputs": [],
   "source": [
    "## Using pybaseball \n",
    "Now begin the execution of the loop. This goes through steps 1-4 in the logical execution portion above.\n",
    "\n",
    "We'll use a few constraints:\n",
    "- collect 350 pitches from each pitcher so that there is balance between pitchers\n",
    "- collect 400 pitches from each pitcher to further ensure balance"
   ]
  },
  {
   "cell_type": "code",
   "execution_count": 3,
   "metadata": {},
   "outputs": [],
   "source": [
    "\n",
    "\n",
    "def collect_statcast(sample_size, target, features, pitcher_names):\n",
    "    \"\"\"TODO\"\"\"\n",
    "    \n",
    "    #loop through all the names\n",
    "    pitchers = pd.DataFrame(columns = features)\n",
    "    for fname, lname in pitcher_names[:2]:\n",
    "        \n",
    "        #grap the unique identifier of the pitcher\n",
    "        player = playerid_lookup(lname, fname)\n",
    "        \n",
    "        #to avoid any possible errors, execute following try statement:\n",
    "        # grab the unique identifier value\n",
    "        # get all available data in time frame\n",
    "        # filter data to only have appropriate targets, defined above\n",
    "        # append particular pitcher to 'master' dataframe\n",
    "        #if any of these steps fail, particularly the grabbing of 'ID'\n",
    "        #pass on to next pitcher\n",
    "        try:\n",
    "            ID = player['key_mlbam'].iloc[player['key_mlbam'].argmax()]\n",
    "            df = statcast_pitcher('2018-03-29', '2018-09-30', player_id = ID)\n",
    "            df = df[df['description'].isin(target)].sample(sample_size, random_state=2019)\n",
    "            data = df[features]\n",
    "            pitchers = pitchers.append(data, ignore_index=True)\n",
    "        except ValueError:\n",
    "            pass\n",
    "    return pitchers\n",
    "\n"
   ]
  },
  {
   "cell_type": "code",
   "execution_count": 5,
   "metadata": {},
   "outputs": [],
   "source": [
    "def convert_to_csv(data):\n",
    "    '''\n",
    "    todo\n",
    "    '''\n",
    "\n",
    "    data.to_csv(DATA_FOLDER / 'raw' / 'Statcast_data.csv')\n",
    "\n",
    "#convert_to_csv(pitchers)"
   ]
  },
  {
   "cell_type": "code",
   "execution_count": 6,
   "metadata": {},
   "outputs": [],
   "source": [
    "def main():\n",
    "\n",
    "    names = read_pitchers(PITCHER_NAMES)\n",
    "    \n",
    "    pitchers = collect_statcast(SAMPLE_SIZE, TARGET_CLASSES, FEATURES_TO_KEEP, names)\n",
    "\n",
    "    convert_to_csv(pitchers)"
   ]
  },
  {
   "cell_type": "code",
   "execution_count": 7,
   "metadata": {},
   "outputs": [
    {
     "name": "stdout",
     "output_type": "stream",
     "text": "Number of Pitchers: 401\nGathering player lookup table. This may take a moment.\nGathering Player Data\nGathering player lookup table. This may take a moment.\nGathering Player Data\n"
    }
   ],
   "source": [
    "main()"
   ]
  },
  {
   "cell_type": "code",
   "execution_count": null,
   "metadata": {},
   "outputs": [],
   "source": []
  }
 ]
}