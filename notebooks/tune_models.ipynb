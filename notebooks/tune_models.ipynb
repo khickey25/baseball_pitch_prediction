{
 "nbformat": 4,
 "nbformat_minor": 2,
 "metadata": {
  "language_info": {
   "name": "python",
   "codemirror_mode": {
    "name": "ipython",
    "version": 3
   },
   "version": "3.8.1-final"
  },
  "orig_nbformat": 2,
  "file_extension": ".py",
  "mimetype": "text/x-python",
  "name": "python",
  "npconvert_exporter": "python",
  "pygments_lexer": "ipython3",
  "version": 3,
  "kernelspec": {
   "name": "python38164bitbaseballstrikepredictionenvvenvbcccc931e5e642c4ba1add464970cfc4",
   "display_name": "Python 3.8.1 64-bit ('baseball_strike_prediction_env': venv)"
  }
 },
 "cells": [
  {
   "cell_type": "code",
   "execution_count": 19,
   "metadata": {},
   "outputs": [],
   "source": [
    "import numpy as np \n",
    "import pandas as pd \n",
    "from sklearn.model_selection import RandomizedSearchCV, GridSearchCV \n",
    "import matplotlib.pyplot as plt\n",
    "import joblib\n",
    "import argparse\n",
    "from joblib import dump, load\n",
    "\n"
   ]
  },
  {
   "cell_type": "code",
   "execution_count": 16,
   "metadata": {},
   "outputs": [
    {
     "data": {
      "text/plain": "_StoreAction(option_strings=['-o', '--output'], dest='output', nargs=None, const=None, default=None, type=None, choices=None, help='Path to saved final tuned model', metavar=None)"
     },
     "execution_count": 16,
     "metadata": {},
     "output_type": "execute_result"
    }
   ],
   "source": [
    "ap = argparse.ArgumentParser(description=\"Tune Hyperparameters of specific classifiers to generate best performing models\")\n",
    "\n",
    "ap.add_argument('-c', '--classifier', required=True,\n",
    "                help='Path to intial, untuned classifier in src/models')\n",
    "\n",
    "ap.add_argument('-d', '--data', required=True,\n",
    "                help='Path to processed dataset to tune hyperparameters')\n",
    "\n",
    "ap.add_argument('-o', '--output',\n",
    "                help='Path to saved final tuned model')\n",
    "\n",
    "#args = vars(ap.parse_args())"
   ]
  },
  {
   "cell_type": "code",
   "execution_count": 21,
   "metadata": {},
   "outputs": [
    {
     "output_type": "error",
     "ename": "NameError",
     "evalue": "name 'args' is not defined",
     "traceback": [
      "\u001b[0;31m---------------------------------------------------------------------------\u001b[0m",
      "\u001b[0;31mNameError\u001b[0m                                 Traceback (most recent call last)",
      "\u001b[0;32m<ipython-input-21-8720f936a0a4>\u001b[0m in \u001b[0;36m<module>\u001b[0;34m\u001b[0m\n\u001b[1;32m      8\u001b[0m \u001b[0mTARGET\u001b[0m \u001b[0;34m=\u001b[0m \u001b[0;34m'description'\u001b[0m\u001b[0;34m\u001b[0m\u001b[0;34m\u001b[0m\u001b[0m\n\u001b[1;32m      9\u001b[0m \u001b[0;34m\u001b[0m\u001b[0m\n\u001b[0;32m---> 10\u001b[0;31m \u001b[0mDATA\u001b[0m \u001b[0;34m=\u001b[0m \u001b[0mpd\u001b[0m\u001b[0;34m.\u001b[0m\u001b[0mread_csv\u001b[0m\u001b[0;34m(\u001b[0m\u001b[0margs\u001b[0m\u001b[0;34m[\u001b[0m\u001b[0;34m'data'\u001b[0m\u001b[0;34m]\u001b[0m\u001b[0;34m)\u001b[0m\u001b[0;34m\u001b[0m\u001b[0;34m\u001b[0m\u001b[0m\n\u001b[0m\u001b[1;32m     11\u001b[0m \u001b[0;34m\u001b[0m\u001b[0m\n\u001b[1;32m     12\u001b[0m \u001b[0mclf\u001b[0m \u001b[0;34m=\u001b[0m \u001b[0mjoblib\u001b[0m\u001b[0;34m.\u001b[0m\u001b[0mload\u001b[0m\u001b[0;34m(\u001b[0m\u001b[0margs\u001b[0m\u001b[0;34m[\u001b[0m\u001b[0;34m'classifier'\u001b[0m\u001b[0;34m]\u001b[0m\u001b[0;34m)\u001b[0m\u001b[0;34m\u001b[0m\u001b[0;34m\u001b[0m\u001b[0m\n",
      "\u001b[0;31mNameError\u001b[0m: name 'args' is not defined"
     ]
    }
   ],
   "source": [
    "\n",
    "PREDICTORS = ['release_spin_rate', 'release_pos_x', 'release_pos_y',\n",
    "       'release_pos_z', 'vx0', 'vz0', 'vy0', 'sz_top', 'sz_bot',\n",
    "       'handedness_L', 'handedness_R', 'pitch_name_2-Seam Fastball',\n",
    "       'pitch_name_4-Seam Fastball', 'pitch_name_Changeup',\n",
    "       'pitch_name_Curveball', 'pitch_name_Cutter', 'pitch_name_Sinker',\n",
    "       'pitch_name_Slider', 'pitch_name_Split Finger']\n",
    "\n",
    "TARGET = 'description'\n",
    "\n",
    "DATA = pd.read_csv(args['data'])\n",
    "\n",
    "clf = joblib.load(args['classifier'])\n",
    "\n",
    "PARAM_GRID = dict(model__C=np.logspace(-4, 4, 20))\n",
    "SCORES = {'AUC': 'roc_auc', 'Accuracy': 'accuracy', 'f1':'f1'}\n",
    "\n",
    "grid_clf = GridSearchCV(clf, param_grid=param_grid, scoring=scores, refit='AUC')\n",
    ""
   ]
  },
  {
   "cell_type": "code",
   "execution_count": 18,
   "metadata": {},
   "outputs": [],
   "source": [
    "def tune_lr(clf, params_grid, metrics, refit_metric):\n",
    "\n",
    "    lr = joblib.load(clf)\n",
    "    grid_clf = GridSearchCV(lr, param_grid=params_grid, scoring=metrics, refit=refit_metric)\n",
    "    grid_clf.fit(data[predictors], data[target])\n",
    "    \n",
    "    print(grid_clf.best_estimator_)\n",
    "\n",
    "    result_cols = ['params', 'mean_test_AUC', 'std_test_AUC', 'rank_test_AUC',\n",
    "                'mean_test_Accuracy', 'std_test_Accuracy', 'rank_test_Accuracy',\n",
    "                'mean_test_f1', 'std_test_f1', 'rank_test_f1']\n",
    "    results = pd.DataFrame(grid_clf.cv_results_).loc[:, result_cols].sort_values('rank_test_AUC')\n",
    "    results\n",
    "    dump(grid_clf.best_estimator_, str(args['output']) + 'Tuned_Logistic_Regression.joblib'\n",
    "\n"
   ]
  },
  {
   "cell_type": "code",
   "execution_count": 9,
   "metadata": {},
   "outputs": [
    {
     "data": {
      "text/html": "<div>\n<style scoped>\n    .dataframe tbody tr th:only-of-type {\n        vertical-align: middle;\n    }\n\n    .dataframe tbody tr th {\n        vertical-align: top;\n    }\n\n    .dataframe thead th {\n        text-align: right;\n    }\n</style>\n<table border=\"1\" class=\"dataframe\">\n  <thead>\n    <tr style=\"text-align: right;\">\n      <th></th>\n      <th>params</th>\n      <th>mean_test_AUC</th>\n      <th>std_test_AUC</th>\n      <th>rank_test_AUC</th>\n      <th>mean_test_Accuracy</th>\n      <th>std_test_Accuracy</th>\n      <th>rank_test_Accuracy</th>\n      <th>mean_test_f1</th>\n      <th>std_test_f1</th>\n      <th>rank_test_f1</th>\n    </tr>\n  </thead>\n  <tbody>\n    <tr>\n      <th>12</th>\n      <td>{'model__C': 11.288378916846883}</td>\n      <td>0.578277</td>\n      <td>0.003491</td>\n      <td>1</td>\n      <td>0.569597</td>\n      <td>0.003590</td>\n      <td>4</td>\n      <td>0.469350</td>\n      <td>0.008444</td>\n      <td>11</td>\n    </tr>\n    <tr>\n      <th>13</th>\n      <td>{'model__C': 29.763514416313132}</td>\n      <td>0.578213</td>\n      <td>0.003981</td>\n      <td>2</td>\n      <td>0.568384</td>\n      <td>0.002945</td>\n      <td>10</td>\n      <td>0.469607</td>\n      <td>0.013319</td>\n      <td>10</td>\n    </tr>\n    <tr>\n      <th>4</th>\n      <td>{'model__C': 0.004832930238571752}</td>\n      <td>0.577676</td>\n      <td>0.003363</td>\n      <td>3</td>\n      <td>0.571516</td>\n      <td>0.002493</td>\n      <td>1</td>\n      <td>0.473648</td>\n      <td>0.006287</td>\n      <td>8</td>\n    </tr>\n    <tr>\n      <th>15</th>\n      <td>{'model__C': 206.913808111479}</td>\n      <td>0.577338</td>\n      <td>0.004243</td>\n      <td>4</td>\n      <td>0.569249</td>\n      <td>0.004025</td>\n      <td>7</td>\n      <td>0.474599</td>\n      <td>0.007221</td>\n      <td>6</td>\n    </tr>\n    <tr>\n      <th>5</th>\n      <td>{'model__C': 0.012742749857031334}</td>\n      <td>0.577251</td>\n      <td>0.003091</td>\n      <td>5</td>\n      <td>0.569795</td>\n      <td>0.002718</td>\n      <td>3</td>\n      <td>0.471415</td>\n      <td>0.010649</td>\n      <td>9</td>\n    </tr>\n    <tr>\n      <th>9</th>\n      <td>{'model__C': 0.615848211066026}</td>\n      <td>0.577184</td>\n      <td>0.003400</td>\n      <td>6</td>\n      <td>0.569287</td>\n      <td>0.001629</td>\n      <td>6</td>\n      <td>0.475563</td>\n      <td>0.008770</td>\n      <td>4</td>\n    </tr>\n    <tr>\n      <th>17</th>\n      <td>{'model__C': 1438.44988828766}</td>\n      <td>0.577138</td>\n      <td>0.004175</td>\n      <td>7</td>\n      <td>0.568929</td>\n      <td>0.001576</td>\n      <td>9</td>\n      <td>0.474211</td>\n      <td>0.009658</td>\n      <td>7</td>\n    </tr>\n    <tr>\n      <th>18</th>\n      <td>{'model__C': 3792.690190732246}</td>\n      <td>0.576898</td>\n      <td>0.003736</td>\n      <td>8</td>\n      <td>0.570566</td>\n      <td>0.003344</td>\n      <td>2</td>\n      <td>0.478716</td>\n      <td>0.007165</td>\n      <td>1</td>\n    </tr>\n    <tr>\n      <th>11</th>\n      <td>{'model__C': 4.281332398719396}</td>\n      <td>0.576397</td>\n      <td>0.004485</td>\n      <td>9</td>\n      <td>0.566522</td>\n      <td>0.008526</td>\n      <td>16</td>\n      <td>0.460066</td>\n      <td>0.019265</td>\n      <td>17</td>\n    </tr>\n    <tr>\n      <th>10</th>\n      <td>{'model__C': 1.623776739188721}</td>\n      <td>0.576380</td>\n      <td>0.003796</td>\n      <td>10</td>\n      <td>0.569042</td>\n      <td>0.003633</td>\n      <td>8</td>\n      <td>0.476086</td>\n      <td>0.013610</td>\n      <td>3</td>\n    </tr>\n    <tr>\n      <th>16</th>\n      <td>{'model__C': 545.5594781168514}</td>\n      <td>0.576094</td>\n      <td>0.003406</td>\n      <td>11</td>\n      <td>0.567876</td>\n      <td>0.003799</td>\n      <td>12</td>\n      <td>0.475475</td>\n      <td>0.007431</td>\n      <td>5</td>\n    </tr>\n    <tr>\n      <th>19</th>\n      <td>{'model__C': 10000.0}</td>\n      <td>0.575892</td>\n      <td>0.002656</td>\n      <td>12</td>\n      <td>0.568083</td>\n      <td>0.003539</td>\n      <td>11</td>\n      <td>0.469093</td>\n      <td>0.007114</td>\n      <td>12</td>\n    </tr>\n    <tr>\n      <th>14</th>\n      <td>{'model__C': 78.47599703514607}</td>\n      <td>0.575658</td>\n      <td>0.003408</td>\n      <td>13</td>\n      <td>0.569494</td>\n      <td>0.002145</td>\n      <td>5</td>\n      <td>0.476272</td>\n      <td>0.007969</td>\n      <td>2</td>\n    </tr>\n    <tr>\n      <th>2</th>\n      <td>{'model__C': 0.0006951927961775605}</td>\n      <td>0.575584</td>\n      <td>0.002862</td>\n      <td>14</td>\n      <td>0.566889</td>\n      <td>0.001630</td>\n      <td>14</td>\n      <td>0.465145</td>\n      <td>0.004532</td>\n      <td>15</td>\n    </tr>\n    <tr>\n      <th>8</th>\n      <td>{'model__C': 0.23357214690901212}</td>\n      <td>0.575386</td>\n      <td>0.005128</td>\n      <td>15</td>\n      <td>0.567321</td>\n      <td>0.005209</td>\n      <td>13</td>\n      <td>0.462747</td>\n      <td>0.023375</td>\n      <td>16</td>\n    </tr>\n    <tr>\n      <th>6</th>\n      <td>{'model__C': 0.03359818286283781}</td>\n      <td>0.574550</td>\n      <td>0.006974</td>\n      <td>16</td>\n      <td>0.566616</td>\n      <td>0.009137</td>\n      <td>15</td>\n      <td>0.466405</td>\n      <td>0.015057</td>\n      <td>13</td>\n    </tr>\n    <tr>\n      <th>7</th>\n      <td>{'model__C': 0.08858667904100823}</td>\n      <td>0.573657</td>\n      <td>0.006410</td>\n      <td>17</td>\n      <td>0.566211</td>\n      <td>0.007746</td>\n      <td>17</td>\n      <td>0.465497</td>\n      <td>0.020651</td>\n      <td>14</td>\n    </tr>\n    <tr>\n      <th>3</th>\n      <td>{'model__C': 0.0018329807108324356}</td>\n      <td>0.571364</td>\n      <td>0.009513</td>\n      <td>18</td>\n      <td>0.563268</td>\n      <td>0.008569</td>\n      <td>18</td>\n      <td>0.458502</td>\n      <td>0.024417</td>\n      <td>18</td>\n    </tr>\n    <tr>\n      <th>1</th>\n      <td>{'model__C': 0.00026366508987303583}</td>\n      <td>0.571193</td>\n      <td>0.004015</td>\n      <td>19</td>\n      <td>0.560437</td>\n      <td>0.003218</td>\n      <td>19</td>\n      <td>0.454702</td>\n      <td>0.003173</td>\n      <td>19</td>\n    </tr>\n    <tr>\n      <th>0</th>\n      <td>{'model__C': 0.0001}</td>\n      <td>0.562120</td>\n      <td>0.003721</td>\n      <td>20</td>\n      <td>0.550646</td>\n      <td>0.004430</td>\n      <td>20</td>\n      <td>0.443797</td>\n      <td>0.006940</td>\n      <td>20</td>\n    </tr>\n  </tbody>\n</table>\n</div>",
      "text/plain": "                                  params  mean_test_AUC  std_test_AUC  \\\n12      {'model__C': 11.288378916846883}       0.578277      0.003491   \n13      {'model__C': 29.763514416313132}       0.578213      0.003981   \n4     {'model__C': 0.004832930238571752}       0.577676      0.003363   \n15        {'model__C': 206.913808111479}       0.577338      0.004243   \n5     {'model__C': 0.012742749857031334}       0.577251      0.003091   \n9        {'model__C': 0.615848211066026}       0.577184      0.003400   \n17        {'model__C': 1438.44988828766}       0.577138      0.004175   \n18       {'model__C': 3792.690190732246}       0.576898      0.003736   \n11       {'model__C': 4.281332398719396}       0.576397      0.004485   \n10       {'model__C': 1.623776739188721}       0.576380      0.003796   \n16       {'model__C': 545.5594781168514}       0.576094      0.003406   \n19                 {'model__C': 10000.0}       0.575892      0.002656   \n14       {'model__C': 78.47599703514607}       0.575658      0.003408   \n2    {'model__C': 0.0006951927961775605}       0.575584      0.002862   \n8      {'model__C': 0.23357214690901212}       0.575386      0.005128   \n6      {'model__C': 0.03359818286283781}       0.574550      0.006974   \n7      {'model__C': 0.08858667904100823}       0.573657      0.006410   \n3    {'model__C': 0.0018329807108324356}       0.571364      0.009513   \n1   {'model__C': 0.00026366508987303583}       0.571193      0.004015   \n0                   {'model__C': 0.0001}       0.562120      0.003721   \n\n    rank_test_AUC  mean_test_Accuracy  std_test_Accuracy  rank_test_Accuracy  \\\n12              1            0.569597           0.003590                   4   \n13              2            0.568384           0.002945                  10   \n4               3            0.571516           0.002493                   1   \n15              4            0.569249           0.004025                   7   \n5               5            0.569795           0.002718                   3   \n9               6            0.569287           0.001629                   6   \n17              7            0.568929           0.001576                   9   \n18              8            0.570566           0.003344                   2   \n11              9            0.566522           0.008526                  16   \n10             10            0.569042           0.003633                   8   \n16             11            0.567876           0.003799                  12   \n19             12            0.568083           0.003539                  11   \n14             13            0.569494           0.002145                   5   \n2              14            0.566889           0.001630                  14   \n8              15            0.567321           0.005209                  13   \n6              16            0.566616           0.009137                  15   \n7              17            0.566211           0.007746                  17   \n3              18            0.563268           0.008569                  18   \n1              19            0.560437           0.003218                  19   \n0              20            0.550646           0.004430                  20   \n\n    mean_test_f1  std_test_f1  rank_test_f1  \n12      0.469350     0.008444            11  \n13      0.469607     0.013319            10  \n4       0.473648     0.006287             8  \n15      0.474599     0.007221             6  \n5       0.471415     0.010649             9  \n9       0.475563     0.008770             4  \n17      0.474211     0.009658             7  \n18      0.478716     0.007165             1  \n11      0.460066     0.019265            17  \n10      0.476086     0.013610             3  \n16      0.475475     0.007431             5  \n19      0.469093     0.007114            12  \n14      0.476272     0.007969             2  \n2       0.465145     0.004532            15  \n8       0.462747     0.023375            16  \n6       0.466405     0.015057            13  \n7       0.465497     0.020651            14  \n3       0.458502     0.024417            18  \n1       0.454702     0.003173            19  \n0       0.443797     0.006940            20  "
     },
     "execution_count": 9,
     "metadata": {},
     "output_type": "execute_result"
    }
   ],
   "source": [
    "result_cols = ['params', 'mean_test_AUC', 'std_test_AUC', 'rank_test_AUC',\n",
    "                'mean_test_Accuracy', 'std_test_Accuracy', 'rank_test_Accuracy',\n",
    "                'mean_test_f1', 'std_test_f1', 'rank_test_f1']\n",
    "results = pd.DataFrame(grid_clf.cv_results_).loc[:, result_cols].sort_values('rank_test_AUC')\n",
    "results"
   ]
  },
  {
   "cell_type": "code",
   "execution_count": null,
   "metadata": {},
   "outputs": [],
   "source": []
  }
 ]
}